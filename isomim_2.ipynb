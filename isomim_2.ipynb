{
  "cells": [
    {
      "cell_type": "markdown",
      "id": "100cf3fb",
      "metadata": {
        "id": "100cf3fb"
      },
      "source": [
        "Before you turn this problem in, make sure everything runs as expected. First, **restart the kernel** (in the menubar, select Kernel$\\rightarrow$Restart) and then **run all cells** (in the menubar, select Cell$\\rightarrow$Run All).\n",
        "\n",
        "Make sure you fill in any place that says `YOUR CODE HERE` or \"YOUR ANSWER HERE\", as well as your name below:"
      ]
    },
    {
      "cell_type": "code",
      "execution_count": null,
      "id": "e9387d87",
      "metadata": {
        "id": "e9387d87"
      },
      "outputs": [],
      "source": [
        "NAME = \"Ido Rabin\" \n"
      ]
    },
    {
      "cell_type": "markdown",
      "id": "72b4002f",
      "metadata": {
        "id": "72b4002f"
      },
      "source": [
        "---"
      ]
    },
    {
      "cell_type": "markdown",
      "id": "a8eb11f0",
      "metadata": {
        "id": "a8eb11f0"
      },
      "source": [
        "# Assignment 2: Applications of modular arithmetics"
      ]
    },
    {
      "cell_type": "code",
      "execution_count": null,
      "id": "dabc94d3",
      "metadata": {
        "deletable": false,
        "editable": false,
        "id": "dabc94d3",
        "nbgrader": {
          "cell_type": "code",
          "checksum": "f30147f745df9fd67c728eacb0ab89b0",
          "grade": false,
          "grade_id": "cell-2c47810b587eba40",
          "locked": true,
          "schema_version": 3,
          "solution": false,
          "task": false
        }
      },
      "outputs": [],
      "source": [
        "import math"
      ]
    },
    {
      "cell_type": "markdown",
      "id": "23e788f2",
      "metadata": {
        "deletable": false,
        "editable": false,
        "id": "23e788f2",
        "nbgrader": {
          "cell_type": "markdown",
          "checksum": "497d1b15be506d142f51ee61509b66f8",
          "grade": false,
          "grade_id": "cell-8e70e66cf8309900",
          "locked": true,
          "schema_version": 3,
          "solution": false,
          "task": false
        }
      },
      "source": [
        "## Question 1: Cryptography\n",
        "\n",
        "You will implement and analyze two simple cryptographic algorithms — Caesar's and Scytale ciphers.\n",
        "\n",
        "1. Implement the encoder for Ceasar's cipher: https://en.wikipedia.org/wiki/Caesar_cipher (encode only the letters, leave other characters as-is)."
      ]
    },
    {
      "cell_type": "markdown",
      "id": "de89796d",
      "metadata": {
        "deletable": false,
        "editable": false,
        "id": "de89796d",
        "nbgrader": {
          "cell_type": "markdown",
          "checksum": "133528ef6fd0ecf3aa9c4c0f304f90d2",
          "grade": false,
          "grade_id": "cell-aa8d321622afeb5c",
          "locked": true,
          "schema_version": 3,
          "solution": false,
          "task": false
        }
      },
      "source": [
        "Q1.1: Implement function `ceasar_cipher`, which will transform regular text into encoded text\n",
        "<pre>\n",
        "------------\n",
        "Input parameters:\n",
        "- plaintext - string, the text that should be encrypted\n",
        "- N - int, size of shift\n",
        "------------\n",
        "return value:\n",
        "string, the text after encoding\n",
        "</pre>"
      ]
    },
    {
      "cell_type": "code",
      "execution_count": 370,
      "id": "3aac3aed",
      "metadata": {
        "deletable": false,
        "id": "3aac3aed",
        "nbgrader": {
          "cell_type": "code",
          "checksum": "ef22d0eb334ce10cb53d28efd457e741",
          "grade": false,
          "grade_id": "cell-fcc26ea16c7fcc6e",
          "locked": false,
          "schema_version": 3,
          "solution": true,
          "task": false
        }
      },
      "outputs": [],
      "source": [
        "def ceasar_cipher(plaintext, shift_amount):\n",
        "    \"\"\"\n",
        "    Encrypts the given plaintext using the Caesar cipher algorithm with the specified shift amount.\n",
        "\n",
        "    Args:\n",
        "    plaintext (str): The text to be encrypted.\n",
        "    shift_amount (int): The number of positions each character in the plaintext will be shifted.\n",
        "\n",
        "    Returns:\n",
        "    str: The encrypted text (ciphertext).\n",
        "    \"\"\"\n",
        "    ciphertext = \"\"\n",
        "    alphabet = \"abcdefghijklmnopqrstuvwxyz\"\n",
        "\n",
        "    for char in plaintext:\n",
        "        if char.lower() in alphabet:\n",
        "            original_index = alphabet.find(char.lower())\n",
        "            new_index = (original_index + shift_amount) % len(alphabet)\n",
        "            ciphertext += alphabet[new_index]\n",
        "        else:\n",
        "            ciphertext += char\n",
        "\n",
        "    return ciphertext\n"
      ]
    },
    {
      "cell_type": "code",
      "execution_count": 371,
      "id": "40c534ce",
      "metadata": {
        "deletable": false,
        "editable": false,
        "id": "40c534ce",
        "nbgrader": {
          "cell_type": "code",
          "checksum": "c5046e5105d34828cc13a09ce4b01d9a",
          "grade": true,
          "grade_id": "cell-910c1caba85f9efe",
          "locked": true,
          "points": 10,
          "schema_version": 3,
          "solution": false,
          "task": false
        }
      },
      "outputs": [
        {
          "name": "stdout",
          "output_type": "stream",
          "text": [
            "Testing the implementation of the 'ceasarCipher' function..\n",
            " \n",
            "good job!\n",
            "Tests passed. There may be hidden tests too\n"
          ]
        }
      ],
      "source": [
        "# --------------------------- RUN THIS TEST CODE CELL -------------------------------------\n",
        "# Q1.1 --- Test your implementation:\n",
        "# ---------------------------\n",
        "print (\"Testing the implementation of the 'ceasarCipher' function..\\n \")\n",
        "assert type(ceasar_cipher(\"meep meep\",1))==str,'output type is incorrect, should be string'\n",
        "print (\"good job!\\nTests passed. There may be hidden tests too\")\n"
      ]
    },
    {
      "cell_type": "markdown",
      "id": "75c9bea5",
      "metadata": {
        "deletable": false,
        "editable": false,
        "id": "75c9bea5",
        "nbgrader": {
          "cell_type": "markdown",
          "checksum": "7a131319fb9eecb2bfd1f183265a82c2",
          "grade": false,
          "grade_id": "cell-2f70f1b68a8a3397",
          "locked": true,
          "schema_version": 3,
          "solution": false,
          "task": false
        }
      },
      "source": [
        "2. Implement a decoder function that can reverse the cypher you've created, and demonstrate it, by encoding and then decoding the implementation (the source code) of the Caesar cipher using Caesar cipher:\n",
        "  * Encode the Python code\n",
        "  * Decode the result of encoding\n",
        "  * Compare the original and the recovered code  - you can add a box where you print the results — they should be the same."
      ]
    },
    {
      "cell_type": "markdown",
      "id": "51340c50",
      "metadata": {
        "deletable": false,
        "editable": false,
        "id": "51340c50",
        "nbgrader": {
          "cell_type": "markdown",
          "checksum": "98b90cf6882853efd4352a6ab1da9475",
          "grade": false,
          "grade_id": "cell-7c4c505ac0fa2e26",
          "locked": true,
          "schema_version": 3,
          "solution": false,
          "task": false
        }
      },
      "source": [
        "Q1.2A: Implement function `ceasar_cipher_decode`, which will restore the cyphertext created by `ceasar_cipher` to plaintext\n",
        "<pre>\n",
        "------------\n",
        "Input parameters:\n",
        "- cyphertext - string, the encoded text that needs to be decyphered\n",
        "- N - int, size of shift that was used in the encoding\n",
        "------------\n",
        "return value:\n",
        "string, the text after decoding\n",
        "</pre>"
      ]
    },
    {
      "cell_type": "code",
      "execution_count": 372,
      "id": "d4f8c38f",
      "metadata": {
        "deletable": false,
        "id": "d4f8c38f",
        "nbgrader": {
          "cell_type": "code",
          "checksum": "2fd70691da6f553c1d235ea523c3acd0",
          "grade": false,
          "grade_id": "cell-fd561d08a5195124",
          "locked": false,
          "schema_version": 3,
          "solution": true,
          "task": false
        }
      },
      "outputs": [],
      "source": [
        "def ceasar_cipher_decode(ciphertext, shift_amount):\n",
        "    \"\"\"\n",
        "    Decrypts the given ciphertext using the Caesar cipher algorithm with the specified shift amount.\n",
        "\n",
        "    Args:\n",
        "    ciphertext (str): The text to be decrypted.\n",
        "    shift_amount (int): The number of positions each character in the ciphertext will be shifted back.\n",
        "\n",
        "    Returns:\n",
        "    str: The decrypted text (plaintext).\n",
        "    \"\"\"\n",
        "    plaintext = \"\"\n",
        "    alphabet = \"abcdefghijklmnopqrstuvwxyz\"\n",
        "\n",
        "    for char in ciphertext:\n",
        "        if char.lower() in alphabet:\n",
        "            original_index = (alphabet.find(char.lower()) - shift_amount) % len(alphabet)\n",
        "            plaintext += alphabet[original_index]\n",
        "        else:\n",
        "            plaintext += char\n",
        "\n",
        "    return plaintext\n",
        "\n"
      ]
    },
    {
      "cell_type": "code",
      "execution_count": 373,
      "id": "0980d899",
      "metadata": {
        "deletable": false,
        "editable": false,
        "id": "0980d899",
        "nbgrader": {
          "cell_type": "code",
          "checksum": "4c2e141a225b5c654fbf5e5b4e009426",
          "grade": true,
          "grade_id": "cell-a3e55a24e9359804",
          "locked": true,
          "points": 8,
          "schema_version": 3,
          "solution": false,
          "task": false
        }
      },
      "outputs": [
        {
          "name": "stdout",
          "output_type": "stream",
          "text": [
            "Testing the implementation of the 'ceasarCipherDecode' function..\n",
            " \n",
            "good job!\n",
            "Tests passed. There may be hidden tests too\n"
          ]
        }
      ],
      "source": [
        "# --------------------------- RUN THIS TEST CODE CELL -------------------------------------\n",
        "# Q1.2A --- Test your implementation:\n",
        "# ---------------------------\n",
        "print (\"Testing the implementation of the 'ceasarCipherDecode' function..\\n \")\n",
        "assert type(ceasar_cipher_decode(\"ABC\",3))==str,'output type is incorrect, should be string'\n",
        "print (\"good job!\\nTests passed. There may be hidden tests too\")"
      ]
    },
    {
      "cell_type": "markdown",
      "id": "9c6f552e",
      "metadata": {
        "deletable": false,
        "editable": false,
        "id": "9c6f552e",
        "nbgrader": {
          "cell_type": "markdown",
          "checksum": "5bb8fed6ba6af7af0cfd0cb03be18b86",
          "grade": false,
          "grade_id": "cell-ee77a41c23c60c7a",
          "locked": true,
          "schema_version": 3,
          "solution": false,
          "task": false
        }
      },
      "source": [
        "Q1.2B: Implement function `return_encrypted_ceasar_code`, which will return a string that equals the code of `ceasar_cipher` after encryption, with N=2 . Then, implement a function `return_decoded_ceasar_code` which will call `return_encrypted_ceasar_code` and return the decrypted outcome.\n",
        "<pre>\n",
        "return_encrypted_ceasar_code()\n",
        "------------\n",
        "Input parameters:\n",
        "none\n",
        "------------\n",
        "return value:\n",
        "string, the encrypted source code\n",
        "</pre>\n",
        "\n",
        "<pre>\n",
        "return_decoded_ceasar_code()\n",
        "------------\n",
        "Input parameters:\n",
        "encrypted_code - the output of return_encrypted_ceasar_code()\n",
        "------------\n",
        "return value:\n",
        "string, the source code restored to plaintext\n",
        "</pre>"
      ]
    },
    {
      "cell_type": "code",
      "execution_count": 374,
      "id": "9dc30b02",
      "metadata": {
        "deletable": false,
        "id": "9dc30b02",
        "nbgrader": {
          "cell_type": "code",
          "checksum": "46e622133a13c9a6c934ebd2d9f39962",
          "grade": false,
          "grade_id": "cell-0c2fa8c5fcfb1b21",
          "locked": false,
          "schema_version": 3,
          "solution": true,
          "task": false
        }
      },
      "outputs": [],
      "source": [
        "def return_encrypted_ceasar_code():\n",
        "    \"\"\"\n",
        "    Returns the encrypted version of a predefined Caesar cipher encryption function's code.\n",
        "    \n",
        "    Returns:\n",
        "    str: The encrypted code.\n",
        "    \"\"\"\n",
        "    plaintext = (\n",
        "        \"def ceasar_cipher(plaintext, N):\\n\"\n",
        "        \"    ciphertext = \\\"\\\"\\n\"\n",
        "        \"    alphabet = \\\"abcdefghijklmnopqrstuvwxyz\\\"\\n\"\n",
        "        \"    for char in plaintext:\\n\"\n",
        "        \"        if char.lower() in alphabet:\\n\"\n",
        "        \"            idx = alphabet.find(char.lower())\\n\"\n",
        "        \"            new_idx = (idx + N) % len(alphabet)\\n\"\n",
        "        \"            ciphertext += alphabet[new_idx]\\n\"\n",
        "        \"        else:\\n\"\n",
        "        \"            ciphertext += char\\n\"\n",
        "        \"    return ciphertext\"\n",
        "    )\n",
        "    ciphertext = ceasar_cipher(plaintext, 2)\n",
        "    return ciphertext\n",
        "\n",
        "def return_decoded_ceasar_code(encrypted_code=None):\n",
        "    \"\"\"\n",
        "    Returns the decrypted version of the provided encrypted code using the Caesar cipher algorithm.\n",
        "    \n",
        "    Args:\n",
        "    encrypted_code (str): The encrypted code to be decrypted. If not provided, the function encrypts a predefined code and then decrypts it.\n",
        "\n",
        "    Returns:\n",
        "    str: The decrypted code.\n",
        "    \"\"\"\n",
        "    if encrypted_code is None:\n",
        "        encrypted_code = return_encrypted_ceasar_code()\n",
        "    decrypted_code = ceasar_cipher_decode(encrypted_code, 2)\n",
        "    return decrypted_code\n"
      ]
    },
    {
      "cell_type": "code",
      "execution_count": 375,
      "id": "4ca93a1b",
      "metadata": {
        "deletable": false,
        "editable": false,
        "id": "4ca93a1b",
        "nbgrader": {
          "cell_type": "code",
          "checksum": "40d1ffdc628d78480aff7fac0b1f3a8d",
          "grade": true,
          "grade_id": "cell-290384e75f4cb72f",
          "locked": true,
          "points": 2,
          "schema_version": 3,
          "solution": false,
          "task": false
        }
      },
      "outputs": [
        {
          "name": "stdout",
          "output_type": "stream",
          "text": [
            "Testing the implementation of the 'ceasarCipherDecode' function..\n",
            " \n",
            "good job!\n",
            "Tests passed. There may be hidden tests too\n"
          ]
        }
      ],
      "source": [
        "# --------------------------- RUN THIS TEST CODE CELL -------------------------------------\n",
        "# Q1.2B --- Test your implementation:\n",
        "# ---------------------------\n",
        "print (\"Testing the implementation of the 'ceasarCipherDecode' function..\\n \")\n",
        "assert type(return_encrypted_ceasar_code())==str,'output type is incorrect, should be string'\n",
        "assert type(return_decoded_ceasar_code())==str,'output type is incorrect, should be string'\n",
        "assert type(return_decoded_ceasar_code(\"some_arbitrary_string\"))==str,'output type is incorrect, should be string'\n",
        "print (\"good job!\\nTests passed. There may be hidden tests too\")"
      ]
    },
    {
      "cell_type": "markdown",
      "id": "f7b2b0b9",
      "metadata": {
        "deletable": false,
        "editable": false,
        "id": "f7b2b0b9",
        "nbgrader": {
          "cell_type": "markdown",
          "checksum": "b18bda5f51586077c35420e77324e4aa",
          "grade": false,
          "grade_id": "cell-b9dc1b9fb6e80d1b",
          "locked": true,
          "schema_version": 3,
          "solution": false,
          "task": false
        }
      },
      "source": [
        "3. Implement the encoder for the Vigenère cipher: https://en.wikipedia.org/wiki/Vigen%C3%A8re_cipher\n",
        "(encode only the letters, leave other characters as-is)."
      ]
    },
    {
      "cell_type": "markdown",
      "id": "ffccc898",
      "metadata": {
        "deletable": false,
        "editable": false,
        "id": "ffccc898",
        "nbgrader": {
          "cell_type": "markdown",
          "checksum": "bae364b23585dc26caf3896fc092bda5",
          "grade": false,
          "grade_id": "cell-b6dcf7eee82e4fb1",
          "locked": true,
          "schema_version": 3,
          "solution": false,
          "task": false
        }
      },
      "source": [
        "Q1.3: Implement function `vigenere_encode`, which will encrypt the input text according to the vigenère code with the provided key.\n",
        "<pre>\n",
        "------------\n",
        "Input parameters:\n",
        "- plaintext - string, the text that needs to be encoded\n",
        "- key - str\n",
        "------------\n",
        "return value:\n",
        "string, the text after encoding\n",
        "</pre>"
      ]
    },
    {
      "cell_type": "code",
      "execution_count": 376,
      "id": "c1ea40b3",
      "metadata": {
        "deletable": false,
        "id": "c1ea40b3",
        "nbgrader": {
          "cell_type": "code",
          "checksum": "35f8d9cec2987647a27b32d2ad69aa96",
          "grade": false,
          "grade_id": "cell-a74f19da20d8c32c",
          "locked": false,
          "schema_version": 3,
          "solution": true,
          "task": false
        }
      },
      "outputs": [],
      "source": [
        "def vigenere_encode(plaintext, key):\n",
        "    \"\"\"\n",
        "    Encrypts the given plaintext using the Vigenère cipher algorithm with the specified key.\n",
        "    \n",
        "    Args:\n",
        "    plaintext (str): The text to be encrypted.\n",
        "    key (str): The encryption key.\n",
        "\n",
        "    Returns:\n",
        "    str: The encrypted text (ciphertext).\n",
        "    \"\"\"\n",
        "    ciphertext = \"\"\n",
        "    alphabet = \"abcdefghijklmnopqrstuvwxyz\"\n",
        "    key_index = 0\n",
        "\n",
        "    for char in plaintext:\n",
        "        if char.lower() in alphabet:\n",
        "            key_char = key[key_index % len(key)].lower()\n",
        "            key_index += 1\n",
        "            key_idx = alphabet.find(key_char)\n",
        "            char_idx = alphabet.find(char.lower())\n",
        "            new_idx = (key_idx + char_idx) % len(alphabet)\n",
        "            if char.isupper():\n",
        "                ciphertext += alphabet[new_idx].upper()\n",
        "            else:\n",
        "                ciphertext += alphabet[new_idx]\n",
        "        else:\n",
        "            ciphertext += char\n",
        "\n",
        "    return ciphertext\n"
      ]
    },
    {
      "cell_type": "code",
      "execution_count": 377,
      "id": "19339e67",
      "metadata": {
        "deletable": false,
        "editable": false,
        "id": "19339e67",
        "nbgrader": {
          "cell_type": "code",
          "checksum": "d719a822159fbfabaf5ab620d7e9935f",
          "grade": true,
          "grade_id": "cell-fede5aa2fb49e35f",
          "locked": true,
          "points": 10,
          "schema_version": 3,
          "solution": false,
          "task": false
        }
      },
      "outputs": [
        {
          "name": "stdout",
          "output_type": "stream",
          "text": [
            "Testing the implementation of the 'vigenere_encode' function..\n",
            " \n",
            "good job!\n",
            "Tests passed. There may be hidden tests too\n"
          ]
        }
      ],
      "source": [
        "# --------------------------- RUN THIS TEST CODE CELL -------------------------------------\n",
        "# Q1.3 --- Test your implementation:\n",
        "# ---------------------------\n",
        "print (\"Testing the implementation of the 'vigenere_encode' function..\\n \")\n",
        "assert type(vigenere_encode(\"ABCabcABC\",\"vig\"))==str,'output type is incorrect, should be string'\n",
        "print (\"good job!\\nTests passed. There may be hidden tests too\")\n"
      ]
    },
    {
      "cell_type": "markdown",
      "id": "302d7951",
      "metadata": {
        "deletable": false,
        "editable": false,
        "id": "302d7951",
        "nbgrader": {
          "cell_type": "markdown",
          "checksum": "6ae0511ee83067016781b7b261e1a6f4",
          "grade": false,
          "grade_id": "cell-ee0be9b1be675d3f",
          "locked": true,
          "schema_version": 3,
          "solution": false,
          "task": false
        }
      },
      "source": [
        "\n",
        "4. Implement a decoder, and demonstrate by encoding and then decoding the implementation of the Vigenère cipher, as before.\n",
        "\n",
        "<b>Please note:</b> in the case where the encoded text length isn't a multiple of the key, the decoder should still be able to reverse the encoding correctly! Make sure you've handled this case."
      ]
    },
    {
      "cell_type": "markdown",
      "id": "c3d2123c",
      "metadata": {
        "deletable": false,
        "editable": false,
        "id": "c3d2123c",
        "nbgrader": {
          "cell_type": "markdown",
          "checksum": "6d3cb18189720e66dfcd834dc7500a7f",
          "grade": false,
          "grade_id": "cell-0b516b713adc25e9",
          "locked": true,
          "schema_version": 3,
          "solution": false,
          "task": false
        }
      },
      "source": [
        "Q1.4A: Implement function `vigenere_decode`, which will restore the cyphertext created by `vigenere_encode` to plaintext\n",
        "<pre>\n",
        "------------\n",
        "Input parameters:\n",
        "- ciphertext - string, the encoded text that needs to be decrypted\n",
        "- key - str\n",
        "------------\n",
        "return value:\n",
        "string, the text after decoding\n",
        "</pre>"
      ]
    },
    {
      "cell_type": "code",
      "execution_count": 378,
      "id": "d93858b3",
      "metadata": {
        "deletable": false,
        "id": "d93858b3",
        "nbgrader": {
          "cell_type": "code",
          "checksum": "1c1a946f5482321328ed9495599fb42a",
          "grade": false,
          "grade_id": "cell-1780c42a6fe02cf5",
          "locked": false,
          "schema_version": 3,
          "solution": true,
          "task": false
        }
      },
      "outputs": [],
      "source": [
        "def vigenere_decode(encoded_text, decryption_key):\n",
        "    \"\"\"\n",
        "    Decrypts the given ciphertext using the Vigenère cipher algorithm with the specified key.\n",
        "    \n",
        "    Args:\n",
        "    encoded_text (str): The text to be decrypted.\n",
        "    decryption_key (str): The decryption key.\n",
        "\n",
        "    Returns:\n",
        "    str: The decrypted text (plaintext).\n",
        "    \"\"\"\n",
        "    decoded_text = \"\"\n",
        "    alphabet = \"abcdefghijklmnopqrstuvwxyz\"\n",
        "    key_position = 0\n",
        "\n",
        "    for character in encoded_text:\n",
        "        if character.lower() in alphabet:\n",
        "            current_key_char = decryption_key[key_position % len(decryption_key)].lower()\n",
        "            key_position += 1\n",
        "            key_index = alphabet.find(current_key_char)\n",
        "            char_index = alphabet.find(character.lower())\n",
        "            new_index = (char_index - key_index) % len(alphabet)\n",
        "            if character.isupper():\n",
        "                decoded_text += alphabet[new_index].upper()\n",
        "            else:\n",
        "                decoded_text += alphabet[new_index]\n",
        "        else:\n",
        "            decoded_text += character\n",
        "\n",
        "    return decoded_text\n"
      ]
    },
    {
      "cell_type": "code",
      "execution_count": 379,
      "id": "b734af7d",
      "metadata": {
        "deletable": false,
        "editable": false,
        "id": "b734af7d",
        "nbgrader": {
          "cell_type": "code",
          "checksum": "362b7a36f036af0704e7b80688f2f282",
          "grade": true,
          "grade_id": "cell-7525afb85c29fb34",
          "locked": true,
          "points": 8,
          "schema_version": 3,
          "solution": false,
          "task": false
        }
      },
      "outputs": [
        {
          "name": "stdout",
          "output_type": "stream",
          "text": [
            "Testing the implementation of the 'vigenere_decode' function..\n",
            " \n",
            "good job!\n",
            "Tests passed. There may be hidden tests too\n"
          ]
        }
      ],
      "source": [
        "# --------------------------- RUN THIS TEST CODE CELL -------------------------------------\n",
        "# Q1.4A --- Test your implementation:\n",
        "# ---------------------------\n",
        "print (\"Testing the implementation of the 'vigenere_decode' function..\\n \")\n",
        "assert type(vigenere_decode(\"ABCDefgh\",\"vig\"))==str,'output type is incorrect, should be string'\n",
        "print (\"good job!\\nTests passed. There may be hidden tests too\")"
      ]
    },
    {
      "cell_type": "markdown",
      "id": "2328508e",
      "metadata": {
        "deletable": false,
        "editable": false,
        "id": "2328508e",
        "nbgrader": {
          "cell_type": "markdown",
          "checksum": "84d7b76c50aa792ef2bf3f3a41341a4e",
          "grade": false,
          "grade_id": "cell-e6f745769929987d",
          "locked": true,
          "schema_version": 3,
          "solution": false,
          "task": false
        }
      },
      "source": [
        "Q1.4B: Implement functions `return_encrypted_vigenere_code`, which will return a string that equals the code of `vigenere_encode` after encryption, with key=\"vig\". Then, implement a function `return_decoded_vigenere_code` which will call `return_encrypted_vigenere_code` and return the decrypted outcome. You may print the output to verify that it matches the original.\n",
        "<pre>\n",
        "return_encrypted_vigenere_code()\n",
        "------------\n",
        "Input parameters:\n",
        "none\n",
        "------------\n",
        "return value:\n",
        "string, the encrypted source code\n",
        "</pre>\n",
        "\n",
        "<pre>\n",
        "return_decoded_vigenere_code()\n",
        "------------\n",
        "Input parameters:\n",
        "encrypted_code - the output of return_encrypted_vigenere_code()\n",
        "------------\n",
        "return value:\n",
        "string, the source code restored to plaintext\n",
        "</pre>"
      ]
    },
    {
      "cell_type": "code",
      "execution_count": 380,
      "id": "1d719e58",
      "metadata": {
        "deletable": false,
        "id": "1d719e58",
        "nbgrader": {
          "cell_type": "code",
          "checksum": "1cef96a02702895e050895e94f07b8c4",
          "grade": false,
          "grade_id": "cell-0e04f341a44584a7",
          "locked": false,
          "schema_version": 3,
          "solution": true,
          "task": false
        }
      },
      "outputs": [],
      "source": [
        "def return_encrypted_vigenere_code():\n",
        "    \"\"\"\n",
        "    Returns the encrypted version of a predefined Vigenère cipher encryption function's code.\n",
        "    \n",
        "    Returns:\n",
        "    str: The encrypted code.\n",
        "    \"\"\"\n",
        "    encode_func_str = (\n",
        "        \"def vigenere_encode(plaintext, key):\\n\"\n",
        "        \"    ciphertext = \\\"\\\"\\n\"\n",
        "        \"    alphabet = \\\"abcdefghijklmnopqrstuvwxyz\\\"\\n\"\n",
        "        \"    key_index = 0\\n\"\n",
        "        \"    for char in plaintext:\\n\"\n",
        "        \"        if char.lower() in alphabet:\\n\"\n",
        "        \"            key_char = key[key_index % len(key)].lower()\\n\"\n",
        "        \"            key_index += 1\\n\"\n",
        "        \"            key_idx = alphabet.find(key_char)\\n\"\n",
        "        \"            char_idx = alphabet.find(char.lower())\\n\"\n",
        "        \"            new_idx = (key_idx + char_idx) % len(alphabet)\\n\"\n",
        "        \"            if char.isupper():\\n\"\n",
        "        \"                ciphertext += alphabet[new_idx].upper()\\n\"\n",
        "        \"            else:\\n\"\n",
        "        \"                ciphertext += alphabet[new_idx]\\n\"\n",
        "        \"        else:\\n\"\n",
        "        \"            ciphertext += char\\n\"\n",
        "        \"    return ciphertext\"\n",
        "    )\n",
        "    encrypted_code = vigenere_encode(encode_func_str, 'vig')\n",
        "    return encrypted_code\n",
        "\n",
        "def return_decoded_vigenere_code(encrypted_code=return_encrypted_vigenere_code()):\n",
        "    \"\"\"\n",
        "    Returns the decrypted version of the provided encrypted code using the Vigenère cipher algorithm.\n",
        "    \n",
        "    Returns:\n",
        "    str: The decrypted code.\n",
        "    \"\"\"\n",
        "    decoded_code = vigenere_decode(encrypted_code, 'vig')\n",
        "    return decoded_code\n"
      ]
    },
    {
      "cell_type": "code",
      "execution_count": 381,
      "id": "4c223366",
      "metadata": {
        "deletable": false,
        "editable": false,
        "id": "4c223366",
        "nbgrader": {
          "cell_type": "code",
          "checksum": "5750992692397ee6c52d63c94078997a",
          "grade": true,
          "grade_id": "cell-bef06a38f2c90ce7",
          "locked": true,
          "points": 2,
          "schema_version": 3,
          "solution": false,
          "task": false
        }
      },
      "outputs": [
        {
          "name": "stdout",
          "output_type": "stream",
          "text": [
            "Testing the implementation of the 'return_encrypted/return_decoded' function..\n",
            " \n",
            "good job!\n",
            "Tests passed. There may be hidden tests too\n"
          ]
        }
      ],
      "source": [
        "# --------------------------- RUN THIS TEST CODE CELL -------------------------------------\n",
        "# Q1.4B --- Test your implementation:\n",
        "# ---------------------------\n",
        "print (\"Testing the implementation of the 'return_encrypted/return_decoded' function..\\n \")\n",
        "assert type(return_encrypted_vigenere_code())==str,'output type is incorrect, should be string'\n",
        "assert type(return_decoded_vigenere_code())==str,'output type is incorrect, should be string'\n",
        "assert type(return_decoded_vigenere_code(\"some_arbitrary_string\"))==str,'output type is incorrect, should be string'\n",
        "print (\"good job!\\nTests passed. There may be hidden tests too\")"
      ]
    },
    {
      "cell_type": "markdown",
      "id": "73ec654c",
      "metadata": {
        "deletable": false,
        "editable": false,
        "id": "73ec654c",
        "nbgrader": {
          "cell_type": "markdown",
          "checksum": "8d9db8cec715eddc3c4b796dd5522921",
          "grade": false,
          "grade_id": "cell-9086fa9408f25eac",
          "locked": true,
          "schema_version": 3,
          "solution": false,
          "task": false
        }
      },
      "source": [
        "# Question 2: Hash tables\n",
        "\n",
        "The code cell below contains emergency phone numbers of the university (taken from https://in.bgu.ac.il/logistics/Pages/dialing_rules.aspx). A single entity may have several phone numbers.\n",
        "\n",
        "You will implement a ‘truecaller’ facility: given a phone number, output the name of the entity. For example,\n",
        "```python\n",
        "caller = truecaller(t, 4100)\n",
        "print(f\"{caller} called!\")\n",
        "```\n",
        "```truecaller``` should return “Police”.\n",
        "\n",
        "if the number is not found, the function should return None\n",
        "\n",
        "Q1. Implement 'truecaller' using a Python dictionary\n"
      ]
    },
    {
      "cell_type": "code",
      "execution_count": 382,
      "id": "40a634ab",
      "metadata": {
        "deletable": false,
        "editable": false,
        "id": "40a634ab",
        "nbgrader": {
          "cell_type": "code",
          "checksum": "e29a08da5e6ef429987b3dc91e282a60",
          "grade": false,
          "grade_id": "cell-48597a6db620e77d",
          "locked": true,
          "schema_version": 3,
          "solution": false,
          "task": false
        }
      },
      "outputs": [],
      "source": [
        "phonebook = [\n",
        "    [\"Security\", '61888', '61555', '61444'],\n",
        "    [\"Police\", '100', '4100'],\n",
        "    [\"Magen David Adom\", '101', '4101'],\n",
        "    [\"Fire Brigade\", '102', '4102'],\n",
        "    [\"Soroka Hospital\", '4007']\n",
        "]\n",
        "\n",
        "def truecaller(phonebook, phone_number):\n",
        "    for entry in phonebook:\n",
        "        contact_name = entry[0]\n",
        "        if str(phone_number) in entry[1:]:\n",
        "            return contact_name\n",
        "    return None\n"
      ]
    },
    {
      "cell_type": "markdown",
      "id": "8922be37",
      "metadata": {
        "deletable": false,
        "editable": false,
        "id": "8922be37",
        "nbgrader": {
          "cell_type": "markdown",
          "checksum": "c1a90732bc744869c63a7cf42226165d",
          "grade": false,
          "grade_id": "cell-7d36160eaa5dd458",
          "locked": true,
          "schema_version": 3,
          "solution": false,
          "task": false
        }
      },
      "source": [
        "Q2.1A : Implement an auxiliary `make_trucaller_python_dictionary` function that converts the provided `phonebook` list into a Python dictionary\n",
        "<pre>\n",
        "------------\n",
        "Input parameters:\n",
        "- phn - a Python list, as `phonebook`, where every item is a list of strings. The first string is the caller's name, the following strings are phone numbers\n",
        "------------\n",
        "return value:\n",
        "Python dictionary\n",
        "------------\n",
        "</pre>"
      ]
    },
    {
      "cell_type": "code",
      "execution_count": 383,
      "id": "b1646416",
      "metadata": {
        "deletable": false,
        "id": "b1646416",
        "nbgrader": {
          "cell_type": "code",
          "checksum": "ce4f04501d8a92ee13bc03a87ea9b21f",
          "grade": false,
          "grade_id": "cell-87a450fdc22b0d47",
          "locked": false,
          "schema_version": 3,
          "solution": true,
          "task": false
        }
      },
      "outputs": [],
      "source": [
        "def make_truecaller_python_dictionary(phonebook_list=phonebook):\n",
        "    \"\"\"\n",
        "    Converts a phonebook list into a dictionary for efficient lookup.\n",
        "\n",
        "    Args:\n",
        "    phonebook_list (list): A list of contacts where each contact is a list of a name followed by phone numbers.\n",
        "\n",
        "    Returns:\n",
        "    dict: A dictionary where keys are phone numbers and values are contact names.\n",
        "    \"\"\"\n",
        "    phonebook_dict = {}\n",
        "    for contact in phonebook_list:\n",
        "        contact_name = contact[0]\n",
        "        phone_numbers = contact[1:]\n",
        "        for number in phone_numbers:\n",
        "            phonebook_dict[number] = contact_name\n",
        "    return phonebook_dict\n",
        "\n"
      ]
    },
    {
      "cell_type": "markdown",
      "id": "962a69f0",
      "metadata": {
        "deletable": false,
        "editable": false,
        "id": "962a69f0",
        "nbgrader": {
          "cell_type": "markdown",
          "checksum": "a99b1f4d8ac0b19749ce1b4ab8db0412",
          "grade": false,
          "grade_id": "cell-55a3a47d02905ced",
          "locked": true,
          "schema_version": 3,
          "solution": false,
          "task": false
        }
      },
      "source": [
        "Q2.1B : Implement a `truecaller1` function, relying on `make_truecaller_python_dictionary`, which takes as input a phone number, and outputs a string with the caller's name as it appears in the phonebook (or returns None if the number couldn't be found).\n",
        "<pre>\n",
        "------------\n",
        "Input parameters:\n",
        "- phone_number - a string, containing a phone number\n",
        "------------\n",
        "return value:\n",
        "a string , with the caller's name\n",
        "------------\n",
        "</pre>"
      ]
    },
    {
      "cell_type": "code",
      "execution_count": 384,
      "id": "55cb4334",
      "metadata": {
        "deletable": false,
        "id": "55cb4334",
        "nbgrader": {
          "cell_type": "code",
          "checksum": "5ded6245582e8440d3eefc098222e703",
          "grade": false,
          "grade_id": "cell-9e86c1484dcf36f4",
          "locked": false,
          "schema_version": 3,
          "solution": true,
          "task": false
        }
      },
      "outputs": [],
      "source": [
        "phonebook_dict = make_truecaller_python_dictionary(phonebook)\n",
        "\n",
        "def truecaller1(phone_number, caller_dict=phonebook_dict):\n",
        "    if phone_number in caller_dict:\n",
        "        return caller_dict[phone_number]\n",
        "    else:\n",
        "        return None\n"
      ]
    },
    {
      "cell_type": "code",
      "execution_count": 385,
      "id": "36dedd1c",
      "metadata": {
        "deletable": false,
        "editable": false,
        "id": "36dedd1c",
        "nbgrader": {
          "cell_type": "code",
          "checksum": "00346b0aef73e69ad538737f063a91ee",
          "grade": true,
          "grade_id": "cell-1be6975be3ec4742",
          "locked": true,
          "points": 12,
          "schema_version": 3,
          "solution": false,
          "task": false
        }
      },
      "outputs": [
        {
          "name": "stdout",
          "output_type": "stream",
          "text": [
            "Testing the implementation of the 'make_truecaller_python_dictionary' function..\n",
            " \n",
            "Testing the implementation of the 'truecaller1' function..\n",
            " \n",
            "good job!\n",
            "Tests passed. There may be hidden tests too\n"
          ]
        }
      ],
      "source": [
        "# --------------------------- RUN THIS TEST CODE CELL -------------------------------------\n",
        "# Q2.1 --- Test your implementation:\n",
        "# ---------------------------\n",
        "print (\"Testing the implementation of the 'make_truecaller_python_dictionary' function..\\n \")\n",
        "assert type(make_truecaller_python_dictionary())==dict,'output type is incorrect, should be python dictionary'\n",
        "print (\"Testing the implementation of the 'truecaller1' function..\\n \")\n",
        "assert type(truecaller1('101'))==str,'output type is incorrect, should be string'\n",
        "print (\"good job!\\nTests passed. There may be hidden tests too\")\n"
      ]
    },
    {
      "cell_type": "markdown",
      "id": "23bf092d",
      "metadata": {
        "deletable": false,
        "editable": false,
        "id": "23bf092d",
        "nbgrader": {
          "cell_type": "markdown",
          "checksum": "26904c195d7bad0b77d00cb699bd71c4",
          "grade": false,
          "grade_id": "cell-b53c70bd58bd6294",
          "locked": true,
          "schema_version": 3,
          "solution": false,
          "task": false
        }
      },
      "source": [
        "\n",
        "Q2. Implement \"truecaller2\" using your own implementation of dictionary:"
      ]
    },
    {
      "cell_type": "code",
      "execution_count": 386,
      "id": "2a4afca0",
      "metadata": {
        "deletable": false,
        "id": "2a4afca0",
        "nbgrader": {
          "cell_type": "code",
          "checksum": "51583e85fc927ff37594fb13ed28e45b",
          "grade": false,
          "grade_id": "cell-f06f7223c2e94a50",
          "locked": false,
          "schema_version": 3,
          "solution": true,
          "task": false
        }
      },
      "outputs": [],
      "source": [
        "#You can add auxiliary functions, according to your discretion\n",
        "# YOUR CODE HERE\n"
      ]
    },
    {
      "cell_type": "markdown",
      "id": "517f57f0",
      "metadata": {
        "deletable": false,
        "editable": false,
        "id": "517f57f0",
        "nbgrader": {
          "cell_type": "markdown",
          "checksum": "e37fabd165e67218629e56b45dcd2dda",
          "grade": false,
          "grade_id": "cell-ce0d376f5cbd3dc8",
          "locked": true,
          "schema_version": 3,
          "solution": false,
          "task": false
        }
      },
      "source": [
        "Q2.2A : Implement an auxiliary `make_truecaller_own_implement_dictionary` function that converts the provided `phonebook` list into a structure that behaves like a hash table\n",
        "    \n",
        "<pre>\n",
        "------------\n",
        "Input parameters:\n",
        "- phn - a Python list, as `phonebook`, where every item is a list of strings. The first string is the caller's name, the following strings are phone numbers\n",
        "------------\n",
        "return value:\n",
        "a Python list\n",
        "------------\n",
        "</pre>"
      ]
    },
    {
      "cell_type": "code",
      "execution_count": 387,
      "id": "8a2a6d89",
      "metadata": {
        "deletable": false,
        "id": "8a2a6d89",
        "nbgrader": {
          "cell_type": "code",
          "checksum": "ab47e533d5ebb36eda77ddf784e342af",
          "grade": false,
          "grade_id": "cell-0f5cd96a463d46c9",
          "locked": false,
          "schema_version": 3,
          "solution": true,
          "task": false
        }
      },
      "outputs": [],
      "source": [
        "def make_truecaller_own_implement_dictionary(phonebook_list=phonebook):\n",
        "    hash_table = [None] * 101  # Initialize hash table with 101 buckets (a prime number)\n",
        "\n",
        "    for entry in phonebook_list:\n",
        "        contact_name = entry[0]\n",
        "        for number in entry[1:]:\n",
        "            hash_value = sum([ord(char) for char in number]) % 101  # Calculate hash value for phone number\n",
        "            if hash_table[hash_value] is None:\n",
        "                hash_table[hash_value] = [[number, contact_name]]  # Create new list if bucket is empty\n",
        "            else:\n",
        "                hash_table[hash_value].append([number, contact_name])  # Add entry to existing list in bucket\n",
        "\n",
        "    return hash_table\n"
      ]
    },
    {
      "cell_type": "markdown",
      "id": "419f5a54",
      "metadata": {
        "deletable": false,
        "editable": false,
        "id": "419f5a54",
        "nbgrader": {
          "cell_type": "markdown",
          "checksum": "bc00b99c395d59c41e1010ce10c74fe6",
          "grade": false,
          "grade_id": "cell-031343b377270d96",
          "locked": true,
          "schema_version": 3,
          "solution": false,
          "task": false
        }
      },
      "source": [
        "Q2.2B : Implement a `truecaller2` function, relying on `make_truecaller_own_implement_dictionary`, which takes as input a phone number, and outputs a string with the caller's name as it appears in the phonebook (or returns None if the number couldn't be found).\n",
        "<pre>\n",
        "------------\n",
        "Input parameters:\n",
        "- phone_number - a string, containing a phone number\n",
        "------------\n",
        "return value:\n",
        "a string , with the caller's name\n",
        "------------\n",
        "</pre>"
      ]
    },
    {
      "cell_type": "code",
      "execution_count": 388,
      "id": "267564de",
      "metadata": {
        "deletable": false,
        "id": "267564de",
        "nbgrader": {
          "cell_type": "code",
          "checksum": "edb73e768f07fc5f424f8a5ff9c577d3",
          "grade": false,
          "grade_id": "cell-a2c907715447ebae",
          "locked": false,
          "schema_version": 3,
          "solution": true,
          "task": false
        }
      },
      "outputs": [],
      "source": [
        "custom_phonebook_dict = make_truecaller_own_implement_dictionary()\n",
        "\n",
        "def truecaller2(phone_number, phonebook_dict=custom_phonebook_dict):\n",
        "    \"\"\"\n",
        "    Looks up the contact name for a given phone number using a custom hash table implementation.\n",
        "\n",
        "    Args:\n",
        "    phone_number (str): The phone number to look up.\n",
        "    phonebook_dict (list): The custom hash table dictionary.\n",
        "\n",
        "    Returns:\n",
        "    str: The contact name if the phone number is found, otherwise None.\n",
        "    \"\"\"\n",
        "    hash_value = sum(ord(char) for char in phone_number) % 101  # Calculate hash value for phone number\n",
        "    if phonebook_dict[hash_value] is None:\n",
        "        return None\n",
        "    else:\n",
        "        for entry in phonebook_dict[hash_value]:\n",
        "            if entry[0] == phone_number:\n",
        "                return entry[1]\n",
        "        return None\n",
        "\n"
      ]
    },
    {
      "cell_type": "code",
      "execution_count": 389,
      "id": "49bf07e1",
      "metadata": {
        "deletable": false,
        "editable": false,
        "id": "49bf07e1",
        "nbgrader": {
          "cell_type": "code",
          "checksum": "8027d662391b1fd881935746d2789b21",
          "grade": true,
          "grade_id": "cell-9bd7a35c7e4305a6",
          "locked": true,
          "points": 12,
          "schema_version": 3,
          "solution": false,
          "task": false
        }
      },
      "outputs": [
        {
          "name": "stdout",
          "output_type": "stream",
          "text": [
            "Testing the implementation of the 'make_truecaller_python_dictionary' function..\n",
            " \n",
            "Testing the implementation of the 'truecaller1' function..\n",
            " \n",
            "good job!\n",
            "Tests passed. There may be hidden tests too\n"
          ]
        }
      ],
      "source": [
        "# --------------------------- RUN THIS TEST CODE CELL -------------------------------------\n",
        "# Q2.2 --- Test your implementation:\n",
        "# ---------------------------\n",
        "print (\"Testing the implementation of the 'make_truecaller_python_dictionary' function..\\n \")\n",
        "assert type(make_truecaller_own_implement_dictionary())==list,'output type is incorrect, should be list'\n",
        "print (\"Testing the implementation of the 'truecaller1' function..\\n \")\n",
        "assert type(truecaller2('102'))==str,'output type is incorrect, should be string'\n",
        "print (\"good job!\\nTests passed. There may be hidden tests too\")\n"
      ]
    },
    {
      "cell_type": "markdown",
      "id": "a5c7fad7",
      "metadata": {
        "deletable": false,
        "editable": false,
        "id": "a5c7fad7",
        "nbgrader": {
          "cell_type": "markdown",
          "checksum": "4c4a9853c1d73f1a9b5042bc02bc48c8",
          "grade": false,
          "grade_id": "cell-843117891a9d6578",
          "locked": true,
          "schema_version": 3,
          "solution": false,
          "task": false
        }
      },
      "source": [
        "\n",
        "3. Implement a hash function `hash_string` for ids. Treat ids as _strings_ of characters.\n"
      ]
    },
    {
      "cell_type": "markdown",
      "id": "71da2ee3",
      "metadata": {
        "deletable": false,
        "editable": false,
        "id": "71da2ee3",
        "nbgrader": {
          "cell_type": "markdown",
          "checksum": "52bc9db9949c6c18dcf4df7e7a9c2e64",
          "grade": false,
          "grade_id": "cell-f61fd6552776dcdc",
          "locked": true,
          "schema_version": 3,
          "solution": false,
          "task": false
        }
      },
      "source": [
        "<pre>\n",
        "------------\n",
        "Input parameters:\n",
        "- str_to_hash - a string\n",
        "------------\n",
        "return value:\n",
        "an integer\n",
        "------------\n",
        "</pre>"
      ]
    },
    {
      "cell_type": "code",
      "execution_count": 390,
      "id": "d6908ebd",
      "metadata": {
        "deletable": false,
        "id": "d6908ebd",
        "nbgrader": {
          "cell_type": "code",
          "checksum": "4a71b2773ec5238b47184fd0bb362581",
          "grade": false,
          "grade_id": "cell-907e0df43371898d",
          "locked": false,
          "schema_version": 3,
          "solution": true,
          "task": false
        }
      },
      "outputs": [],
      "source": [
        "def hash_string(string_to_hash):\n",
        "    \"\"\"\n",
        "    Computes the hash value of a given string using a basic hash function.\n",
        "\n",
        "    Args:\n",
        "    string_to_hash (str): The string to hash.\n",
        "\n",
        "    Returns:\n",
        "    int: The computed hash value.\n",
        "    \"\"\"\n",
        "    hash_value = 0\n",
        "    for char in string_to_hash:\n",
        "        hash_value = (hash_value * 31 + ord(char)) % 10000  # Compute hash value using a multiplier and modulo operation\n",
        "    return hash_value"
      ]
    },
    {
      "cell_type": "code",
      "execution_count": 391,
      "id": "00b7eff6",
      "metadata": {
        "deletable": false,
        "editable": false,
        "id": "00b7eff6",
        "nbgrader": {
          "cell_type": "code",
          "checksum": "9f08e1b4ec20a8d3b4e07b1abcfb8483",
          "grade": true,
          "grade_id": "cell-6074fd7cee4c2b6d",
          "locked": true,
          "points": 12,
          "schema_version": 3,
          "solution": false,
          "task": false
        }
      },
      "outputs": [
        {
          "name": "stdout",
          "output_type": "stream",
          "text": [
            "Testing the implementation of the 'hash_string' function..\n",
            " \n",
            "good job!\n",
            "Tests passed. There may be hidden tests too\n"
          ]
        }
      ],
      "source": [
        "\n",
        "# --------------------------- RUN THIS TEST CODE CELL -------------------------------------\n",
        "# Q2.3 --- Test your implementation:\n",
        "# ---------------------------\n",
        "print (\"Testing the implementation of the 'hash_string' function..\\n \")\n",
        "assert type(hash_string(\"some string\"))==int,'output should be an integer'\n",
        "print (\"good job!\\nTests passed. There may be hidden tests too\")\n",
        "\n"
      ]
    },
    {
      "cell_type": "markdown",
      "id": "bb5b263d",
      "metadata": {
        "deletable": false,
        "editable": false,
        "id": "bb5b263d",
        "nbgrader": {
          "cell_type": "markdown",
          "checksum": "307a2d55bf985c8d22213f9cb3beda54",
          "grade": false,
          "grade_id": "cell-59a6c62f24842735",
          "locked": true,
          "schema_version": 3,
          "solution": false,
          "task": false
        }
      },
      "source": [
        "\n",
        "4. A check digit is used in ids in order to detect errors and make faking an id a bit harder. The exact formula for ids' check digit can be found in https://he.wikipedia.org/wiki/%D7%A1%D7%A4%D7%A8%D7%AA_%D7%91%D7%99%D7%A7%D7%95%D7%A8%D7%AA. Implement a function `check_id` which checks if a given id is legal with 2 conditions:\n",
        "1. It is of length 9\n",
        "2. The check digit is correct"
      ]
    },
    {
      "cell_type": "markdown",
      "id": "7fa2b6e9",
      "metadata": {
        "deletable": false,
        "editable": false,
        "id": "7fa2b6e9",
        "nbgrader": {
          "cell_type": "markdown",
          "checksum": "99af97158441a11b216d70396594a124",
          "grade": false,
          "grade_id": "cell-e0ac0c1f1b26fec6",
          "locked": true,
          "schema_version": 3,
          "solution": false,
          "task": false
        }
      },
      "source": [
        "Implement the function `check_id` that returns whether an id is legal or not:\n",
        "\n",
        "<pre>\n",
        "------------\n",
        "Input parameters:\n",
        "- id: a string\n",
        "------------\n",
        "return value:\n",
        "- boolean\n",
        "------------\n",
        "</pre>"
      ]
    },
    {
      "cell_type": "code",
      "execution_count": 392,
      "id": "636df540",
      "metadata": {
        "deletable": false,
        "id": "636df540",
        "nbgrader": {
          "cell_type": "code",
          "checksum": "a2be1c19387d62a85dc5ca93502f20bf",
          "grade": false,
          "grade_id": "cell-a5389da6f18d38bd",
          "locked": false,
          "schema_version": 3,
          "solution": true,
          "task": false
        }
      },
      "outputs": [],
      "source": [
        "#You can add auxiliary functions, according to your discretion\n",
        "# YOUR CODE HERE\n"
      ]
    },
    {
      "cell_type": "code",
      "execution_count": 393,
      "id": "972f3f45",
      "metadata": {
        "deletable": false,
        "id": "972f3f45",
        "nbgrader": {
          "cell_type": "code",
          "checksum": "f68cab6f2706d22146f9b1ed3839070d",
          "grade": false,
          "grade_id": "cell-cba9f3c0fcdfb195",
          "locked": false,
          "schema_version": 3,
          "solution": true,
          "task": false
        }
      },
      "outputs": [],
      "source": [
        "def check_id(identifier):\n",
        "    \"\"\"\n",
        "    Validates an ID number using a weighted checksum algorithm.\n",
        "\n",
        "    Args:\n",
        "    identifier (str): The ID number to validate.\n",
        "\n",
        "    Returns:\n",
        "    bool: True if the ID is valid, False otherwise.\n",
        "    \"\"\"\n",
        "    if len(identifier) != 9:\n",
        "        return False\n",
        "\n",
        "    weights = [1, 2, 1, 2, 1, 2, 1, 2, 1]\n",
        "    total_sum = 0\n",
        "\n",
        "    for i in range(9):\n",
        "        digit = int(identifier[i])\n",
        "        product = weights[i] * digit\n",
        "        if product > 9:\n",
        "            product = product // 10 + product % 10  # Sum the digits of the product\n",
        "        total_sum += product\n",
        "\n",
        "    return total_sum % 10 == 0\n"
      ]
    },
    {
      "cell_type": "code",
      "execution_count": 394,
      "id": "b966b718",
      "metadata": {
        "deletable": false,
        "editable": false,
        "id": "b966b718",
        "nbgrader": {
          "cell_type": "code",
          "checksum": "f870adff00c6f80b62e243a540a2682a",
          "grade": true,
          "grade_id": "cell-cf67edd4a8ae7aa5",
          "locked": true,
          "points": 14,
          "schema_version": 3,
          "solution": false,
          "task": false
        }
      },
      "outputs": [
        {
          "name": "stdout",
          "output_type": "stream",
          "text": [
            "Testing the implementation of the min_size- functions..\n",
            " \n",
            "good job!\n",
            "Tests passed. There may be hidden tests too\n"
          ]
        }
      ],
      "source": [
        "\n",
        "\n",
        "# --------------------------- RUN THIS TEST CODE CELL -------------------------------------\n",
        "# Q2.4 --- Test your implementation:\n",
        "# ---------------------------\n",
        "print (\"Testing the implementation of the min_size- functions..\\n \")\n",
        "assert check_id(\"123456789\")==False,'output should be False'\n",
        "assert check_id(\"123456782\")==True,'output should be True'\n",
        "print (\"good job!\\nTests passed. There may be hidden tests too\")\n"
      ]
    },
    {
      "cell_type": "markdown",
      "id": "7ad96769",
      "metadata": {
        "deletable": false,
        "editable": false,
        "id": "7ad96769",
        "nbgrader": {
          "cell_type": "code",
          "checksum": "f870adff00c6f80b62e243a540a2682a",
          "grade": true,
          "grade_id": "cell-cf67edd4a8ae7aa5",
          "locked": true,
          "points": 14,
          "schema_version": 3,
          "solution": false,
          "task": false
        }
      },
      "source": [
        "5. Hashing is called ‘perfect’ if there are no ‘key conflicts‘. Can you find if there is a value that has a conflict with your own id, when using the hash function you implemented in Q2.3?"
      ]
    },
    {
      "cell_type": "markdown",
      "id": "86eb972f",
      "metadata": {
        "deletable": false,
        "editable": false,
        "id": "86eb972f",
        "nbgrader": {
          "cell_type": "code",
          "checksum": "f870adff00c6f80b62e243a540a2682a",
          "grade": true,
          "grade_id": "cell-cf67edd4a8ae7aa5",
          "locked": true,
          "points": 14,
          "schema_version": 3,
          "solution": false,
          "task": false
        }
      },
      "source": [
        "Implement the function `find_conflict` that returns if there is an id with the same hash value as your own id, or an empty string otherwise:\n",
        "\n",
        "<pre>\n",
        "------------\n",
        "Input parameters:\n",
        "- id: your own id\n",
        "------------\n",
        "return value:\n",
        "- string, either empty or a legal id with the same hash value as your own id\n",
        "------------\n",
        "</pre>"
      ]
    },
    {
      "cell_type": "code",
      "execution_count": 395,
      "id": "5e79aa5b",
      "metadata": {
        "deletable": false,
        "id": "5e79aa5b",
        "nbgrader": {
          "cell_type": "code",
          "checksum": "f68cab6f2706d22146f9b1ed3839070d",
          "grade": false,
          "grade_id": "cell-cba9f3c0fcdfb195",
          "locked": false,
          "schema_version": 3,
          "solution": true,
          "task": false
        }
      },
      "outputs": [],
      "source": [
        "\n",
        "def find_conflict(identifier):\n",
        "    \"\"\"\n",
        "    Finds a conflicting ID that has the same hash value as the given ID.\n",
        "\n",
        "    Args:\n",
        "    identifier (str): The ID to find a conflict for.\n",
        "\n",
        "    Returns:\n",
        "    str: A conflicting ID with the same hash value or an empty string if no conflict is found.\n",
        "    \"\"\"\n",
        "    hash_value = hash_string(identifier)\n",
        "    # Generate a list of all legal IDs and check if any of them have the same hash value\n",
        "    for i in range(1000000000):\n",
        "        candidate_id = str(i).zfill(9)  # Pad candidate ID with leading zeros\n",
        "        if check_id(candidate_id) and hash_string(candidate_id) == hash_value and candidate_id != identifier:\n",
        "            return candidate_id\n",
        "    return \"\"\n"
      ]
    }
  ],
  "metadata": {
    "celltoolbar": "Edit Metadata",
    "colab": {
      "provenance": []
    },
    "kernelspec": {
      "display_name": "Python 3 (ipykernel)",
      "language": "python",
      "name": "python3"
    },
    "language_info": {
      "codemirror_mode": {
        "name": "ipython",
        "version": 3
      },
      "file_extension": ".py",
      "mimetype": "text/x-python",
      "name": "python",
      "nbconvert_exporter": "python",
      "pygments_lexer": "ipython3",
      "version": "3.11.4"
    }
  },
  "nbformat": 4,
  "nbformat_minor": 5
}
